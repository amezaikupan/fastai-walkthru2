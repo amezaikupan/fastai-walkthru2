{
 "cells": [
  {
   "cell_type": "code",
   "execution_count": 1,
   "id": "0b2b3f13-342d-4a73-aa67-179f8b8fc59e",
   "metadata": {},
   "outputs": [],
   "source": [
    "import numpy as np"
   ]
  },
  {
   "cell_type": "code",
   "execution_count": 5,
   "id": "2dd7cafa-e489-43bf-be99-3e3561651058",
   "metadata": {},
   "outputs": [],
   "source": [
    "a = np.cos(np.pi)"
   ]
  },
  {
   "cell_type": "code",
   "execution_count": 6,
   "id": "dbee68a1-da09-45bb-a1ea-f3d6f08c5e75",
   "metadata": {},
   "outputs": [
    {
     "data": {
      "text/plain": [
       "-1.0"
      ]
     },
     "execution_count": 6,
     "metadata": {},
     "output_type": "execute_result"
    }
   ],
   "source": [
    "a"
   ]
  }
 ],
 "metadata": {
  "kernelspec": {
   "display_name": "Python 3 (ipykernel)",
   "language": "python",
   "name": "python3"
  },
  "language_info": {
   "codemirror_mode": {
    "name": "ipython",
    "version": 3
   },
   "file_extension": ".py",
   "mimetype": "text/x-python",
   "name": "python",
   "nbconvert_exporter": "python",
   "pygments_lexer": "ipython3",
   "version": "3.12.2"
  }
 },
 "nbformat": 4,
 "nbformat_minor": 5
}
